{
 "cells": [
  {
   "cell_type": "markdown",
   "metadata": {
    "tags": []
   },
   "source": [
    "# Workshop med BRAIN NTNU\n",
    "\n",
    "Vi har sett hva *attention* er og hvordan det brukes for å bygge nevrale nettverk. Tenk på attention som en byggeblokk som brukes for å lage en modell. Det er mulig å kombinere denne blokken med andre typer mekanismer, for eksempel *convolutions* eller *fully connected layers*. *Transformers* er en type modell som baserer seg på attention, og har oppnådd stor suksess.\n",
    "\n",
    "\n",
    "Vi i Oda bruker attention i flere av våre anbefalingsmodeller, og to av disse skal vi nå bruke til å lage en prototype.\n",
    "\n",
    "## Attention modeller i Oda\n",
    "Den første modellen kaller vi **Likely to Buy** (L2B). Som navnet tilsier prøver denne modellen å predikere hva hver kunde er mest sannslig til å kjøpe i sin neste ordre. Modellen tar inn ordrehistorikken, data om brukeren og data om produktene. Den gir en score for hvert product tilhørende en bruker. Så sorterer man på denne scoren til å få en rangert liste av relevante produkter. Produkter en bruker kjøper ofte, f.eks. melk, brød og frukt, vil havne høyt oppe på denne listen. Modellen er designet slik at handlingen blir mest mulig effektiv for brukeren. Modellen gir prediksjoner hvert døgn over natten slik at den bruker den siste relevante dataen. L2B gir også en predikert sannsynlighet for produkter brukeren ikke har kjøpt før.\n",
    "\n",
    "\n",
    "Den andre vi skal bruke er laget for en applikasjon som heter **Build Your Own Dinner** (BYOD). Her er treningsdataen bestående av middagsprodukter. Brukern kan lage en middagsliste, og modellen anbefale produkter som passer med det som allerede ligger i listen. Brukeren interagerer med modellen live. Modellen tar inn en liste med produkter og gir tilbake en liste med relaterte produkter. For eksempel, hvis jeg starter med å legge til tacokrydder vil modellen anbefale lefser, tortillas, avokado osv. Ved at brukeren interagerer med prediksjonene får vi også samlet verdifull data.\n",
    "\n",
    "## Dagens prototype: Bundle builder\n",
    "\n",
    "BYOD er en stegvis prosess der brukeren jobber sammen med modellen for å lage en middagsliste. For hvert steg gir modellen forslag av produkter og brukeren vil basert på preferanser ta et valg over hva som skal være med i listen. Intensjonen er at det skal være interaktivt, både fordi det skal være en god brukeropplevelse, men også for at vi skal kunne samle data. For hva er egentlig en middag? Hvilke og hvor mange produkter inngår i en middag? Min taco er mest sannsynligvis annerledes en din taco. Noen bruker First Price spice mix, andre Old El Paso. Noen lager sin egen salsa, andre kjøper salsa på glass. Hver middag består av et sett med produkter der hver bruker har egne preferanser. \n",
    "\n",
    "\n",
    "I stedet for å la brukeren ta valget, skal vi nå bruke L2B modellen. Hypotesen er at L2B modellen er god nok til å reflektere brukerens preferanser. Dermed kan vi simulere prosessen der vi bruker de to modellene sammen til å lage en middagsliste. For hvert steg vil BYOD modellen gi en liste av relevante produkter (kandidater). Ved å bruke L2B modellen kan vi rangere denne listen og velge produktet som inngår i middagslisten. Den oppdaterte middagslisten gang deretter mates til BYOD modellen som på nytt vil gi en liste med relevante produkter. Dette er illustrert i figuren under. \n",
    "\n",
    "\n",
    "<img src=\"./images/sketch1.png\" width=300 />\n",
    "\n",
    "\n",
    "I denne loopen må vi også ta stilling til hvordan man skal starte og stoppe. BYOD modellen må ta inn minst ett product for å fungere. Vi definerer derfor flere forskjellige middager der hver middag har en liste med \"seeds\". Ta eksempelet med taco som er en av de middagene som er definert. Vi ønsker å starte med produkterer som er unikt for taco slik at resten av loopen holder seg innenfor taco-relaterte produkter. Agurk kan brukes i veldig mange middagsretter, inkludert taco. Derfor vil det ikke gi mening å starte med agurk. Vi kan derimot bruke produkter som spice mix og salsa. \n",
    "\n",
    "Vi må også ha kriterie for å stoppe loopen. Når er en middag komplett? En enkel fremgangsmåte er å bare bruke antall produkter, men det er mulig å tenke på andre kriterier også.\n",
    "\n",
    "\n",
    "Vi ønsker også at produktene i middagslisten skal være forskjellige. Det nytter ikke med to forskjellige typer pasta. Vi kan derfor legge inn dette som et en prosedyre i loopen. \n",
    "\n",
    "\n",
    "En skisse av algoritmen ser dermed slik ut: \n",
    "\n",
    "<img src=\"./images/sketch2.png\" width=300 />"
   ]
  },
  {
   "cell_type": "markdown",
   "metadata": {},
   "source": [
    "## Installere pakker\n",
    "Hvis du ikke har installert de relevante pakkene på forhånd, kan du installere dem ved å kjøre cellen under:"
   ]
  },
  {
   "cell_type": "code",
   "execution_count": null,
   "metadata": {},
   "outputs": [],
   "source": [
    "!pip install -r requirements.txt"
   ]
  },
  {
   "cell_type": "markdown",
   "metadata": {},
   "source": [
    "Når pakkene er installert, skal det gå greit å importere følgende pakker:"
   ]
  },
  {
   "cell_type": "code",
   "execution_count": null,
   "metadata": {},
   "outputs": [],
   "source": [
    "%load_ext autoreload\n",
    "%autoreload 2\n",
    "import tensorflow as tf\n",
    "import numpy as np\n",
    "import pandas as pd\n",
    "from pathlib import Path\n",
    "from collections import defaultdict\n",
    "from typing import Tuple\n",
    "from utils import (\n",
    "    create_id_to_idx_mapping,\n",
    "    create_id_to_name_mapping,\n",
    "    create_idx_to_name_mapping,\n",
    "    create_idx_to_category_two_mapping,\n",
    "    create_idx_to_id_mapping,\n",
    "    load_model,\n",
    "    load_seed_products, \n",
    "    predict_next,\n",
    "    load_predictions\n",
    ")"
   ]
  },
  {
   "cell_type": "markdown",
   "metadata": {},
   "source": [
    "## Laste inn input\n",
    "Vi starter med å laste inn det vi trenger inn i notebooken. Det vi trenger er:\n",
    "- Prediksjoner fra L2B.\n",
    "- BYOD modell. \n",
    "- \"Seed produkter\"\n",
    "\n",
    "Vi begynner med L2B prediksjoner. Her trenger vi ikke selve modellen siden vi klarer oss med kun prediksjonene. Vanligvis vil modellen gi prediksjoner hver natt som da blir vist til brukeren. \n",
    "\n",
    "For å gjøre treningen av modellen lettere, har vi kun brukt 3000 av de mest populære produktene i treningen. Hvert produkt har en *product_id*. Denne id i seg selv er kun et arbitrært tall. Under treningen blir denne \"mapped\" til in indeks mellom 1 og 3000. \n",
    "\n",
    "Prediksjonene kommer i en dictionary der innholder er:\n",
    "- `input_product_id`, dette er product id-ene.\n",
    "- `input_product_index`, dette er tilhørende index mellom 1 og 3000. \n",
    "- `user`, dette er id-en til brukeren.\n",
    "- `scores`, dette er predikert score fra modellen. Legg merke til at det ikke er sortert enda. "
   ]
  },
  {
   "cell_type": "code",
   "execution_count": null,
   "metadata": {},
   "outputs": [],
   "source": [
    "predictions = load_predictions()"
   ]
  },
  {
   "cell_type": "markdown",
   "metadata": {},
   "source": [
    "Neste er BYOD modellen. Her trenger vi selve modellen siden vi skal bruke den i algoritmen. Det er en modell skrevet i Tensorflow. "
   ]
  },
  {
   "cell_type": "code",
   "execution_count": null,
   "metadata": {
    "jupyter": {
     "outputs_hidden": true
    },
    "tags": []
   },
   "outputs": [],
   "source": [
    "byod_model = load_model()"
   ]
  },
  {
   "cell_type": "markdown",
   "metadata": {},
   "source": [
    "Sist ut er det vi kaller \"seeds\". Vi har på forhånd definert noen vanlige middager, som f.eks. taco, pasta og pizza. I algoritme vi har beskrevet, trenger vi et sted å starte. En enkel måte å gjøre det på er å starte med en kuratert liste med produkter for hver middag. Vi må da tenke på hva som er gode startpunkt, eller seeds. For eksempel, vi kunne starte med agurk i en tacomiddag. Men agurk kan brukes i mange forskjellige typer middag, og modellen vil da slite med å identifisere taco. Et bedre startpunkt er tacokrydder eller salsa. Dette er produkter som er relativt unikt for en tacomiddag, og modellen vi da ha en bedre forutsetning for å lykkes. Vi har manuelt definert en liste med produkter for hver middag. \n",
    "\n",
    "Denne fremgangsmåten er relativt enkel, og har sine begrensninger. Kan du se hvilke? Og hvilke andre måter kunne man gjort dette på?"
   ]
  },
  {
   "cell_type": "code",
   "execution_count": null,
   "metadata": {},
   "outputs": [],
   "source": [
    "bundle_seeds = load_seed_products()"
   ]
  },
  {
   "cell_type": "markdown",
   "metadata": {},
   "source": [
    "Her ser vi hvilke middager som er definert. For hver middag, har vi en liste med product id-er. "
   ]
  },
  {
   "cell_type": "code",
   "execution_count": null,
   "metadata": {},
   "outputs": [],
   "source": [
    "bundle_seeds.keys()"
   ]
  },
  {
   "cell_type": "code",
   "execution_count": null,
   "metadata": {
    "jupyter": {
     "outputs_hidden": true
    },
    "tags": []
   },
   "outputs": [],
   "source": [
    "bundle_seeds[\"taco\"]"
   ]
  },
  {
   "cell_type": "markdown",
   "metadata": {},
   "source": [
    "# Mappings\n",
    "Vi har to modeller som er trent på to forskjellige sett med produkter. L2B er trent på 3000 populære produkter, mens BYOD er trent på middagsprodukter. Hver av modellene bruker indekser i treningen, og ikke id-er direkte. Vi må derfor definere mapping-funksjoner mellom id og index. Her gjør vi det for BYOD."
   ]
  },
  {
   "cell_type": "code",
   "execution_count": null,
   "metadata": {},
   "outputs": [],
   "source": [
    "id_to_name_mapping = create_id_to_name_mapping()\n",
    "idx_to_name_mapping = create_idx_to_name_mapping()\n",
    "idx_to_id_mapping = create_idx_to_id_mapping()\n",
    "id_to_idx_mapping = create_id_to_idx_mapping()"
   ]
  },
  {
   "cell_type": "markdown",
   "metadata": {},
   "source": [
    "## L2B rangering\n",
    "La oss først se på hvordan vi kan rangere en liste med produkter ved hjelp av L2B modellen. Vi må da gjøre to ting:\n",
    "\n",
    "Først filtrere på hvilke produkter vi ønsker å se på.\n",
    "Så må vi sortere på score."
   ]
  },
  {
   "cell_type": "code",
   "execution_count": null,
   "metadata": {},
   "outputs": [],
   "source": [
    "taco_seeds = bundle_seeds[\"taco\"]\n",
    "l2b_product_ids = predictions[\"input_product_id\"]\n",
    "test_scores = predictions[\"scores\"][2]\n",
    "\n",
    "# filter out taco products not that are not l2b products\n",
    "indicators_products = np.isin(taco_seeds, l2b_product_ids)\n",
    "taco_filtered = np.array(taco_seeds)[indicators_products]\n",
    "\n",
    "# filter scores by the taco products that are left\n",
    "indicators_scores = np.isin(l2b_product_ids, taco_filtered)\n",
    "scores_filtered = test_scores[indicators_scores]\n",
    "\n",
    "# sort scores and product ids\n",
    "idx_sorted = np.argsort(-scores_filtered).astype(np.int16)\n",
    "product_ids_sorted = taco_filtered[idx_sorted]\n",
    "scores_sorted = scores_filtered[idx_sorted]"
   ]
  },
  {
   "cell_type": "code",
   "execution_count": null,
   "metadata": {},
   "outputs": [],
   "source": [
    "# map to names to inspect results\n",
    "names_sorted = [id_to_name_mapping[id] for id in product_ids_sorted]\n",
    "print(*names_sorted, sep='\\n')"
   ]
  },
  {
   "cell_type": "markdown",
   "metadata": {},
   "source": [
    "Vi samler alt dette i en funksjon som vi kan bruke senere. "
   ]
  },
  {
   "cell_type": "code",
   "execution_count": null,
   "metadata": {},
   "outputs": [],
   "source": [
    "def rank_candidates(\n",
    "    scores: list, product_ids: list, candidates: list\n",
    ") -> Tuple[list, list]:\n",
    "    \"\"\"\n",
    "    Rank a list of candidates by L2B scores.\n",
    "\n",
    "    Args:\n",
    "        scores (list): L2B output scores.\n",
    "        product_ids (list): L2B product ids.\n",
    "        candidates (list): List of product ids to be ranked.\n",
    "\n",
    "    Returns:\n",
    "        Tuple[list, list]: ranked list and corresponding scores.\n",
    "    \"\"\"\n",
    "    # filter candidates products by l2b products\n",
    "    indicators_products = np.isin(candidates, product_ids)\n",
    "    candidates_filtered = np.array(candidates)[indicators_products]\n",
    "\n",
    "    # filter scores by candidate products\n",
    "    indicators_scores = np.isin(product_ids, candidates_filtered)\n",
    "    scores_filtered = scores[indicators_scores]\n",
    "\n",
    "    if len(candidates_filtered) == 1:\n",
    "        return candidates_filtered, scores_filtered\n",
    "\n",
    "    if len(candidates_filtered) == 0:\n",
    "        return [candidates.pop(0)], [scores.min()]\n",
    "\n",
    "    idx_sorted = np.argsort(-scores_filtered).astype(np.int16)\n",
    "    product_ids_sorted = candidates_filtered[idx_sorted]\n",
    "    scores_sorted = scores_filtered[idx_sorted]\n",
    "    return product_ids_sorted, scores_sorted"
   ]
  },
  {
   "cell_type": "markdown",
   "metadata": {},
   "source": [
    "## BYOD kandidater\n",
    "\n",
    "La oss så se på hvordan BYOD modellen virker i praksis. Modellen tar inn en liste med produkter, og vil gi ut produkter som passer godt overens. Vi bruker funksjonen `predict_next`, der input er modellen, input produkter og hvor mange produkter som skal returneres. Husk at her må vi mappe produkt id til indeks for at modellen skal fungere. Funksjonen vil også gi en score for hvert produkt.\n",
    "\n",
    "Vi fortsetter med eksempelet med taco. Vi kan da ta det første produktet i den rangerte listen, og generere nye produkter. "
   ]
  },
  {
   "cell_type": "code",
   "execution_count": null,
   "metadata": {},
   "outputs": [],
   "source": [
    "# select highest rated product\n",
    "selected_product_id = product_ids_sorted[0]\n",
    "# map ti idx\n",
    "selected_product_idx = id_to_idx_mapping[selected_product_id]\n",
    "# generate new products\n",
    "candidates_idx, byod_score = predict_next(byod_model, [selected_product_idx], k=10)\n",
    "candidates_names = [idx_to_name_mapping[idx] for idx in candidates_idx]\n",
    "print(*candidates_names, sep=\"\\n\")"
   ]
  },
  {
   "cell_type": "markdown",
   "metadata": {},
   "source": [
    "Vi kan nå tenke oss at vi tar disse produktene og rangerer de med L2B modellen."
   ]
  },
  {
   "cell_type": "code",
   "execution_count": null,
   "metadata": {},
   "outputs": [],
   "source": [
    "candidates_id = [idx_to_id_mapping[idx] for idx in candidates_idx]\n",
    "candidates_ranked, _ = rank_candidates(test_scores, l2b_product_ids, candidates_id)\n",
    "candidates_ranked_names = [id_to_name_mapping[id] for id in candidates_ranked]\n",
    "print(*candidates_ranked_names, sep=\"\\n\")"
   ]
  },
  {
   "cell_type": "markdown",
   "metadata": {},
   "source": [
    "Vi kunne nå valgt det beste produktet på nytt, for å så generere nye produkter. Da vil vi ha gjennomført den første iterasjonen av algoritmen vår.\n"
   ]
  },
  {
   "cell_type": "markdown",
   "metadata": {},
   "source": [
    "## Første utkast\n",
    "\n",
    "Vi kan nå skrive dette som en while-loop. Vi trenger å spesifisere når loopen skal avsluttes og middagen er servert. Her gjør vi det enkelt med å bruke antall produkter, men kan du tenke på andre måter å gjøre dette?"
   ]
  },
  {
   "cell_type": "code",
   "execution_count": null,
   "metadata": {},
   "outputs": [],
   "source": [
    "bundle_idxs = []\n",
    "candidates = taco_seeds\n",
    "max_bundle_length = 10\n",
    "n_byod_products = 10 \n",
    "\n",
    "while len(bundle_idxs) < max_bundle_length:\n",
    "    # ranking using l2b\n",
    "    ranked_ids, ranked_scores = rank_candidates(\n",
    "        scores=test_scores, product_ids=l2b_product_ids, candidates=candidates\n",
    "    )\n",
    "\n",
    "    # pick product\n",
    "    best_product_id = ranked_ids[0]\n",
    "    best_product_idx = id_to_idx_mapping[best_product_id]\n",
    "    bundle_idxs.append(best_product_idx)\n",
    "\n",
    "    # generate new candidates\n",
    "    candidates_idx, byod_scores = predict_next(\n",
    "        byod_model, bundle_idxs, k=n_byod_products\n",
    "    )\n",
    "\n",
    "    candidates = [idx_to_id_mapping[idx] for idx in candidates_idx]\n",
    "\n",
    "bundle = [idx_to_id_mapping[idx] for idx in bundle_idxs]"
   ]
  },
  {
   "cell_type": "code",
   "execution_count": null,
   "metadata": {},
   "outputs": [],
   "source": [
    "bundle_names = [id_to_name_mapping[idx] for idx in bundle]\n",
    "print(*bundle_names, sep=\"\\n\")"
   ]
  },
  {
   "cell_type": "markdown",
   "metadata": {},
   "source": [
    "## Diversify\n",
    "\n",
    "Vi vil også sørge for at en middags-bundle inneholder inneholder duplikater av ingredienser. For eksempel trenger man som regel ikke flere enn en type salsa for taco. Vi bruker kategorier for dette, og setter et tall for maksimalt antall produkter per kategori. Dette er heller ikke en optimal løsning. Hvorfor ikke? \n",
    "\n",
    "I denne funksjonen grupperer vi først alle produktene i kategorier. Så rangerer vi produktene på max score fra BYOD. Deretter velger vi den første kategorien som oppfyller kriteriet vi har satt."
   ]
  },
  {
   "cell_type": "code",
   "execution_count": null,
   "metadata": {},
   "outputs": [],
   "source": [
    "def diversify_by_category(\n",
    "    candidates: list,\n",
    "    used_categories: defaultdict,\n",
    "    byod_scores: list,\n",
    "    idx_to_category_mapping: dict,\n",
    "    max_category_limit: int = 1,\n",
    ") -> list:\n",
    "    \"\"\"\n",
    "    Diversify the candidate selction based on information of the category of products.\n",
    "\n",
    "    Args:\n",
    "        candidates (list): product ids of proposed products.\n",
    "        used_categories (defaultdict): to keep score of the categories already used.\n",
    "        byod_scores (list): output scores from the byod model.\n",
    "        idx_to_category_mapping (dict): mapping to category name.\n",
    "        max_category_limit (int, optional): Number of products within each category. Defaults to 1.\n",
    "\n",
    "    Returns:\n",
    "        list: filtered list of candidates based on category information.\n",
    "    \"\"\"\n",
    "    # group products by categories\n",
    "    d = defaultdict(list)\n",
    "    for idx, score in zip(candidates, byod_scores):\n",
    "        d[idx_to_category_mapping[idx]].append([idx, score])\n",
    "\n",
    "    # sort by max score within category\n",
    "    category_sorted = sorted(\n",
    "        d.items(), key=lambda x: max([i[1] for i in x[1]]), reverse=True\n",
    "    )\n",
    "\n",
    "    # pick products from first valid category\n",
    "    for category, products in category_sorted:\n",
    "        if used_categories[category] >= max_category_limit:\n",
    "            continue\n",
    "        else:\n",
    "            candidates_filtered = [product[0] for product in products]\n",
    "            return candidates_filtered, used_categories\n",
    "\n",
    "    # if none of the categories is valid\n",
    "    return [], None"
   ]
  },
  {
   "cell_type": "markdown",
   "metadata": {},
   "source": [
    "## Rank bundles\n",
    "\n",
    "Vi vil også ha muligheten til å rangere middagene. Funksjonen nedenfor går gjennom alle middagene og rangerer based på gjennomsnittlit L2B-score på produktene. "
   ]
  },
  {
   "cell_type": "code",
   "execution_count": null,
   "metadata": {},
   "outputs": [],
   "source": [
    "def rank_bundle_for_each_user(bundles_for_all_users: defaultdict) -> defaultdict:\n",
    "    \"\"\"\n",
    "    Rank bundle per user using scores from l2b.\n",
    "\n",
    "    Args:\n",
    "        bundles_for_all_users (defaultdict): Containing bundles for all users.\n",
    "\n",
    "    Returns:\n",
    "        defaultdict: Same as input, but the bundles are ranked per user.\n",
    "    \"\"\"\n",
    "    for user, bundles in bundles_for_all_users.items():\n",
    "        bundles_ranked = sorted(\n",
    "            bundles.items(), key=lambda x: np.mean(x[1][\"scores\"]), reverse=True\n",
    "        )\n",
    "        bundles_for_all_users[user] = bundles_ranked\n",
    "\n",
    "    return bundles_for_all_users"
   ]
  },
  {
   "cell_type": "markdown",
   "metadata": {},
   "source": [
    "## Sett alt sammen\n",
    "\n",
    "Nå har vi definert alle komponentene som brukes i algoritmen, og vi kan sette alt sammen. Først definerer vi en funksjon som itererer over alle middagene og brukere."
   ]
  },
  {
   "cell_type": "code",
   "execution_count": null,
   "metadata": {},
   "outputs": [],
   "source": [
    "def get_bundles_for_all_users(\n",
    "    model: tf.keras.Model,\n",
    "    predictions: dict,\n",
    "    bundle_seeds: dict,\n",
    "    max_bundle_length=10,\n",
    "    max_category_limit=2,\n",
    "    n_byod_products=30,\n",
    ") -> dict:\n",
    "    \"\"\"\n",
    "    Composes dinner bundles for all customers.\n",
    "\n",
    "    Args:\n",
    "        model (tf.keras.Model): Build Your Own Dinner model.\n",
    "        predictions (dict): Prediction scores from Likely to Buy model.\n",
    "        bundle_seeds (dict): Contains product ids for predefined bundles.\n",
    "        max_bundle_length (int, optional): _description_. Defaults to 10.\n",
    "        max_category_limit (int, optional): _description_. Defaults to 2.\n",
    "        n_byod_products (int, optional): _description_. Defaults to 30.\n",
    "\n",
    "    Returns:\n",
    "        dict: bundles for all users.\n",
    "    \"\"\"\n",
    "    bundles_for_all_users = defaultdict(dict)\n",
    "    id_to_idx_mapping = create_id_to_idx_mapping()\n",
    "    idx_to_id_mapping = create_idx_to_id_mapping()\n",
    "    id_to_name_mapping = create_id_to_name_mapping()\n",
    "    idx_to_category_mapping = create_idx_to_category_two_mapping()\n",
    "\n",
    "    for bundle_name, seed_products in bundle_seeds.items():\n",
    "        print(f\"Making some {bundle_name}...\")\n",
    "        seed_products_filtered = [\n",
    "            id for id in seed_products if id in id_to_idx_mapping.keys()\n",
    "        ]\n",
    "        l2b_ids = predictions[\"input_product_id\"]\n",
    "        for user, scores in zip(predictions[\"user\"], predictions[\"scores\"]):\n",
    "            bundle_ids, bundle_scores = create_bundle_for_user(\n",
    "                model,\n",
    "                scores,\n",
    "                l2b_ids,\n",
    "                seed_products_filtered,\n",
    "                id_to_idx_mapping,\n",
    "                idx_to_id_mapping,\n",
    "                idx_to_category_mapping,\n",
    "                max_bundle_length,\n",
    "                max_category_limit,\n",
    "                n_byod_products,\n",
    "            )\n",
    "            bundle_product_names = [id_to_name_mapping[id] for id in bundle_ids]\n",
    "            bundles_for_all_users[user][bundle_name] = {\n",
    "                \"ids\": bundle_ids,\n",
    "                \"names\": bundle_product_names,\n",
    "                \"scores\": bundle_scores,\n",
    "            }\n",
    "\n",
    "    bundles_for_all_users_ranked = rank_bundle_for_each_user(bundles_for_all_users)\n",
    "\n",
    "    return bundles_for_all_users_ranked"
   ]
  },
  {
   "cell_type": "markdown",
   "metadata": {},
   "source": [
    "Deretter definerer vi funksjonen som lager middag for en bruker:"
   ]
  },
  {
   "cell_type": "code",
   "execution_count": null,
   "metadata": {},
   "outputs": [],
   "source": [
    "def create_bundle_for_user(\n",
    "    model: tf.keras.Model,\n",
    "    scores: list,\n",
    "    l2b_product_ids: list,\n",
    "    seed_products: list,\n",
    "    id_to_idx_mapping: dict,\n",
    "    idx_to_id_mapping: dict,\n",
    "    idx_to_category_mapping: dict,\n",
    "    max_bundle_length: int,\n",
    "    max_category_limit: int,\n",
    "    n_byod_products: int,\n",
    ") -> list:\n",
    "    \"\"\"\n",
    "    Compose the bundle for a single user.\n",
    "\n",
    "    Args:\n",
    "        model (tf.keras.Model): BYOD model.\n",
    "        scores (list): L2B prediction scores.\n",
    "        l2b_product_ids (list): L2B vocabulary product ids.\n",
    "        seed_products (list): Seed products for given bundle.\n",
    "        id_to_idx_mapping (dict): BYOD mapping to idx.\n",
    "        idx_to_id_mapping (dict): BYOD mapping to id.\n",
    "        idx_to_category_mapping (dict): BYOD mapping to category.\n",
    "        max_bundle_length (int, optional): Max number of products of the bundle.\n",
    "        max_category_limit (int, optional): Max number of products within same category.\n",
    "        n_byod_products (int, optional): Number of output products of BYOD model.\n",
    "\n",
    "    Returns:\n",
    "        list: One bundle for a single user.\n",
    "    \"\"\"\n",
    "    bundle_idxs = []\n",
    "    l2b_bundle_scores = []\n",
    "    used_categories = defaultdict(int)\n",
    "    candidates = seed_products\n",
    "\n",
    "    while len(bundle_idxs) < max_bundle_length and used_categories is not None:\n",
    "        # ranking using l2b\n",
    "        ranked_ids, ranked_scores = rank_candidates(\n",
    "            scores=scores, product_ids=l2b_product_ids, candidates=candidates\n",
    "        )\n",
    "\n",
    "        # pick product\n",
    "        best_product_id = ranked_ids[0]\n",
    "        best_product_idx = id_to_idx_mapping[best_product_id]\n",
    "        used_categories[idx_to_category_mapping[best_product_idx]] += 1\n",
    "        bundle_idxs.append(best_product_idx)\n",
    "        l2b_bundle_scores.append(ranked_scores[0])\n",
    "\n",
    "        # generate new candidates\n",
    "        candidates_idx, byod_scores = predict_next(\n",
    "            model, bundle_idxs, k=n_byod_products\n",
    "        )\n",
    "\n",
    "        candidates_filtered, used_categories = diversify_by_category(\n",
    "            candidates_idx,\n",
    "            used_categories,\n",
    "            byod_scores,\n",
    "            idx_to_category_mapping,\n",
    "            max_category_limit=max_category_limit,\n",
    "        )\n",
    "        candidates = [idx_to_id_mapping[idx] for idx in candidates_filtered]\n",
    "\n",
    "    bundle = [idx_to_id_mapping[idx] for idx in bundle_idxs]\n",
    "    return bundle, l2b_bundle_scores\n"
   ]
  },
  {
   "cell_type": "markdown",
   "metadata": {},
   "source": [
    "## Visualisering og testing\n",
    "\n",
    "Vi kan nå teste modellen og se at alt fungerer. Det er tre parametre vi kan spesifisere. \n",
    "- `max_bundle_length`: hvor mange produkter skal det være i en middag\n",
    "- `max_category_limit`: hvor mange produkter per kategori\n",
    "- `n_byod_products`: hvor mange produkterer som returneres fra BYOD modellen\n",
    "\n",
    "Her kan du du teste ut forskjellige parametre og se hvordan det påvirker resultatet. "
   ]
  },
  {
   "cell_type": "code",
   "execution_count": null,
   "metadata": {},
   "outputs": [],
   "source": [
    "bundles_for_all_users = get_bundles_for_all_users(model=byod_model, \n",
    "                                                  predictions=predictions, \n",
    "                                                  bundle_seeds=bundle_seeds, \n",
    "                                                  max_bundle_length=5, \n",
    "                                                  max_category_limit=1, \n",
    "                                                  n_byod_products=30)"
   ]
  },
  {
   "cell_type": "markdown",
   "metadata": {},
   "source": [
    "Funksjonen nedenfor vil visualisere resultatet for en gitt bruker. Her er kolonnene rangert fra venstre til høyre. I tillegg viser fargene scoren fra L2b."
   ]
  },
  {
   "cell_type": "code",
   "execution_count": null,
   "metadata": {
    "tags": []
   },
   "outputs": [],
   "source": [
    "def print_bundles_for_user(user, bundles_for_all_users):\n",
    "    user_bundles = pd.DataFrame()\n",
    "    user_scores = pd.DataFrame()\n",
    "    bundles = bundles_for_all_users[user]\n",
    "    for name, data in bundles:\n",
    "        user_bundles[name] = data[\"names\"]\n",
    "        user_scores[name] = tf.nn.softmax(data[\"scores\"]).numpy()\n",
    "\n",
    "    user_bundles = user_bundles.style.background_gradient(axis=None, gmap=user_scores, vmin=0, vmax=1)\n",
    "    return user_bundles"
   ]
  },
  {
   "cell_type": "code",
   "execution_count": null,
   "metadata": {},
   "outputs": [],
   "source": [
    "user = 1\n",
    "print_bundles_for_user(user, bundles_for_all_users)"
   ]
  },
  {
   "cell_type": "markdown",
   "metadata": {},
   "source": [
    "## Åpne problemer\n",
    "\n",
    "Vi har nå sett en mulig algoritme for å kombinere to maskinlæringsmodeller for å lage personaliserte middager. Det er derimot flere måter å forbedre algoritmen. Ved å teste for forskjellige brukere og ulike parametre vil du kanskje se ting som ikke gir mening. Kan du tenkte deg noen måter å gjøre det bedre? Test ut noen endringer og se hvordan det blir!\n",
    "\n",
    "\n",
    "Noen forslag som kan testes:\n",
    "- **Aggregering av scores**: To ulike steder i koden brukte vi aggregering av scores. Først når vi skulle finne neste kategori. Da brukte vi max av product-score fra byod. Andre gangen var da vi rangerte middagene og brukte mean av product-score fra l2b. Hvilken innvirkning har dette? Test gjerne ut forskjellige måter. \n",
    "- **Kombinere L2B og BYOD score i ranking**: scoren fra de to modellene reflekterer to forskjellige ting. L2B-scoren sier noe om hvor godt passer dette produktet sammen med brukeren. BYOD-scoren sier noe om hvor godt et produkt passer sammen med en eksisterende liste av produkter. Når vi gjorde rangering av produktene brukte vi kun L2B score. Som en konsekvens kan man ende opp i en situasjon der L2B \"tar over\" og velger produkter som egentlig ikke passer så godt. Hvordan kan man kombinere scoren fra begge modellene?\n",
    "- **Når er en middag ferdig?** Vi har nå brukt antall produkter som kriterium for når vi skal stoppe. Men det er ikke slik at en middag alltid inneholder 10 produkter. Hvordan kan man gjøre dette mer dynamisk?\n",
    "- **Seed produkter**: Her har vi manuelt kuratert lister med seeds for å starte algoritmen. Denne listen er langt i fra perfekt, og ideelt sett har vi en metode som sier hvilke produkter som er gode startpunkt for hver bruker. Kan du tenke deg måter å gjøre dette på?\n",
    "- **Andre søkealgoritmer**: Algoritmen vi har implementert er et grådig søk. Basert på de valgene vi har for hvert steg, velger vi det beste basert på en rangering. Men det er ikke sikkert dette er det optimale valget. Hvordan kan man gjøre dette bedre?\n",
    "- ...\n",
    "\n",
    "Du kan gjerne prøve å skrive litt kode eller bare tenk over hvordan dette problemet kan løses på en bedre måte. Er det f.eks. mulig å lage en modell som predikerer en bundle? Hvilken rolle har datainnsamling her? Vi tar en oppsummering til slutt for å diskutere det vi har funnet ut."
   ]
  },
  {
   "cell_type": "code",
   "execution_count": null,
   "metadata": {},
   "outputs": [],
   "source": []
  }
 ],
 "metadata": {
  "kernelspec": {
   "display_name": "Python 3 (ipykernel)",
   "language": "python",
   "name": "python3"
  },
  "language_info": {
   "codemirror_mode": {
    "name": "ipython",
    "version": 3
   },
   "file_extension": ".py",
   "mimetype": "text/x-python",
   "name": "python",
   "nbconvert_exporter": "python",
   "pygments_lexer": "ipython3",
   "version": "3.9.12"
  },
  "vscode": {
   "interpreter": {
    "hash": "e7cb1b9ae4d417fedf7f40a8eec98f7cfbd359e096bd857395a915f4609834ce"
   }
  }
 },
 "nbformat": 4,
 "nbformat_minor": 4
}
